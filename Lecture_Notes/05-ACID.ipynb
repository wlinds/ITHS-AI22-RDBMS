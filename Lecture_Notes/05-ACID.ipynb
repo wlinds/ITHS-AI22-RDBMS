{
 "cells": [
  {
   "attachments": {},
   "cell_type": "markdown",
   "metadata": {},
   "source": [
    "# **ACID-transactions**\n",
    "### **Atomicity, Consistency, Isolation, Durability**\n",
    "<code>\n",
    "\n",
    "-- CRUD OPERATIONS CHAINED TOGETHER = \"TRANSACTION\"\n",
    "\n",
    "BEGIN TRANSACTION;\n",
    "\n",
    "UPDATE Accounts SET amount = amount – 100 where id = 345234563;\n",
    "\n",
    "UPDATE Accounts SET amount = amount + 100 where id = 348754372; \n",
    "\n",
    "\n",
    "COMMIT;\n",
    "</code>\n"
   ]
  },
  {
   "attachments": {},
   "cell_type": "markdown",
   "metadata": {},
   "source": [
    "<div style=\"display: flex; flex-direction: row;\">\n",
    "  <div style=\"flex: 1; margin:10px;\">\n",
    "  \n",
    "### 💎 **Atomicity**\n",
    "Transaktion ska vara *odelbar*.\n",
    "  </div>\n",
    "  <div style=\"flex: 2; margin:10px;\">\n",
    "\n",
    "### ‏‏‎ ‎\n",
    "Either all the operations within a transaction must be completed successfully, or none of them must be completed at all.\n",
    "\n",
    "If any operation within a transaction fails, the entire transaction must be rolled back, so that the database remains in a consistent state.\n",
    "  </div>"
   ]
  },
  {
   "attachments": {},
   "cell_type": "markdown",
   "metadata": {},
   "source": [
    "<div style=\"display: flex; flex-direction: row;\">\n",
    "  <div style=\"flex: 1; margin:10px;\">\n",
    "\n",
    "### 🧭 **Consistency**\n",
    "Databas ska inte innehålla *inre motsägelser*.\n",
    "  </div>\n",
    "  <div style=\"flex: 2; margin:10px;\">\n",
    "\n",
    "  ### ‏‏‎ ‎\n",
    "Consistency means that a transaction must bring the database from one valid state to another valid state.</br>\n",
    "\n",
    "**Integrity** - Setting up constraints/rules when creating database.\n",
    "\n",
    "If any operation within a transaction fails, the entire transaction must be rolled back, so that the database remains in a consistent state.\n",
    "  </div>"
   ]
  },
  {
   "attachments": {},
   "cell_type": "markdown",
   "metadata": {},
   "source": [
    "<div style=\"display: flex; flex-direction: row;\">\n",
    "  <div style=\"flex: 1; margin:10px;\">\n",
    "\n",
    "### 😷 **Isolation**\n",
    "Transaktioner måste vara *isolerade* från varandra, även om de utförs parallellt.\n",
    "  </div>\n",
    "  <div style=\"flex: 2; margin:10px;\">\n",
    "\n",
    "### ‏‏‎ ‎\n",
    "Isolation means ensuring that concurrent transactions do not interfere with each other. It means that each transaction must be executed in isolation from other transactions, as if it were the only transaction running.\n",
    "  </div>\n",
    "\n",
    "</div>\n",
    "<div style=\"display: flex; flex-direction: row;\">\n",
    "  <div style=\"flex: 1; margin:10px;\">\n",
    "  \n",
    "| Transaktion 1                      | Transaktion 2      |\n",
    "| ---------------------------------- | ------------------ |\n",
    "| Läs in (x)                         | Läs in (x)         |\n",
    "| x := x * 100                       | Läs in (y)         |\n",
    "| Spara (x)                          | z := x + y         |\n",
    "| Läs in (y)                         | Spara (z)          |\n",
    "| y := y – 50                       |                    |\n",
    "| Spara (y)                          |                    |\n",
    "\n",
    "  </div>\n",
    "  \n",
    "  <div style=\"flex: 2; margin:10px;\">\n",
    "  SQL servers are built to handle multiple queries at the same time. This is used with either multiple cores or time slicing.<br>\n",
    "\n",
    "  Antag att x = 5 och y = 100, och att vi har två transaktioner som körs parallellt. Om den andra transaktionen startar när den första precis sparat x, så kommer den läsa in det nya x-värdet, men det gamla y-värdet, eftersom transaktion 1 inte hunnit uppdatera det. Då skulle vi (felaktigt) få\n",
    "   z = 500 + 100 = 600, istället för det förväntade z = 500 + 50 = 550.\n",
    "</div>"
   ]
  },
  {
   "attachments": {},
   "cell_type": "markdown",
   "metadata": {},
   "source": [
    "<div style=\"display: flex; flex-direction: row;\">\n",
    "  <div style=\"flex: 1; margin:10px;\">\n",
    "\n",
    "### 🗿 **Durability**\n",
    "När en transaktion är klar ska den finnas kvar i systemet på ett säkert sätt och inte kunna gå förlorad.\n",
    "\n",
    "  </div>\n",
    "  <div style=\"flex: 2; margin:10px;\">\n",
    "\n",
    "### ‏‏‎ ‎\n",
    "Durability ensures that once a transaction is committed, its effects are permanent, even in the event of a system failure. It means that the changes made by a committed transaction must be written to permanent storage and be available for future transactions, even if the system crashes or loses power.\n",
    "\n",
    "  </div>"
   ]
  },
  {
   "attachments": {},
   "cell_type": "markdown",
   "metadata": {},
   "source": [
    "---\n",
    "## **Commit & Rollback**\n",
    "\n",
    "- Commit command informs the database manager that the entire transaction is finished and should be executed.\n",
    "\n",
    "- The changes made during the ongoing transaction are permanently stored by the database manager only when it encounters the \"Commit\" command.\n",
    "\n",
    "- The \"Rollback\" command cancels the ongoing transaction and rolls it back completely. The database manager then restores all data to its state before the transaction began.\n",
    "\n",
    "Store commands in **transaction log**, then execute them by commit.\n",
    "\n",
    "---"
   ]
  },
  {
   "attachments": {},
   "cell_type": "markdown",
   "metadata": {},
   "source": [
    "## **Backups**\n",
    "<div style=\"display: flex; flex-direction: row;\">\n",
    "  <div style=\"flex: 1\">\n",
    "    <img src=\"https://www.meme-arsenal.com/memes/fbf2e89d91610efe8606f9412084632a.jpg\">\n",
    "  </div>\n",
    "  <div style=\"flex: 1.57\">\n",
    "    <img src=\"https://content.spiceworksstatic.com/service.community/p/post_images/attached_image/33f6963f-b414-494c-8fa3-4bdc77c4c27a-27e9uu.jpg\">\n",
    "  </div>\n",
    "</div>\n",
    "\n",
    "### Full backup\n",
    "- A snapshot. Exactly how it looks. Save as .bak.\n",
    "\n",
    "### Differential backup\n",
    "- Good for larger db:s. Only stores the changes made since the last full backup.\n",
    "  - However, after a while it will get large anyway...\n",
    "\n",
    "### Transaction log backup\n",
    "- It's like ctrl+z redo\n",
    "\n",
    "### Tail-log\n",
    "- Captures any log records that have not yet been backed up (the tail of the log) to prevent work loss and to keep the log chain intact. \n",
    "\n"
   ]
  },
  {
   "attachments": {},
   "cell_type": "markdown",
   "metadata": {},
   "source": [
    "<br>\n",
    "\n",
    "---\n",
    "\n",
    "## **Deadlocks**\n",
    "\n",
    "#### *\"Transaction was deadlocked and has been chosen as victim. Rerun the transaction.\"*\n",
    "\n",
    "När två transaktioner blockerar varandra så att ingen transaktion kan avslutas.\n",
    "\n",
    ">A situation where two or more transactions are waiting for each other to release resources, such as locks on database tables or rows. This creates a circular dependency where none of the transactions can proceed, resulting in a deadlock.\n",
    "\n",
    "- Transaktion 1 har låst tabell A\n",
    "- Transaktion 2 har låst tabell B\n",
    "- Transaktion 1 begär ett lås på tabell B, men blockeras av transaktion 2\n",
    "- Transaktion 2 begär ett lås på tabell A, men blockeras av transaktion 1"
   ]
  }
 ],
 "metadata": {
  "language_info": {
   "name": "python"
  },
  "orig_nbformat": 4
 },
 "nbformat": 4,
 "nbformat_minor": 2
}
