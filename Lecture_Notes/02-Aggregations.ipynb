{
 "cells": [
  {
   "attachments": {},
   "cell_type": "markdown",
   "metadata": {},
   "source": [
    "## When comparing to null, cannot write = null. Must write **is null**\n",
    "\n",
    "---"
   ]
  },
  {
   "cell_type": "code",
   "execution_count": null,
   "metadata": {
    "vscode": {
     "languageId": "sql"
    }
   },
   "outputs": [],
   "source": [
    "SELECT * FROM users WHERE email IS NULL;"
   ]
  },
  {
   "attachments": {},
   "cell_type": "markdown",
   "metadata": {},
   "source": [
    "<div style=\"display: flex; flex-direction: row;\">\n",
    "  <div style=\"flex: 1; margin:10px;\">\n",
    "  <div class=\"hexagon\">\n",
    "  <p>About binary &amp; hex</p>\n",
    "  \n",
    "<style>\n",
    ".hexagon {\n",
    "  width: 200px;\n",
    "  height: 110px;\n",
    "  position: relative;\n",
    "  background-color: #262626;\n",
    "  margin: 55px 0;\n",
    "  display: flex;\n",
    "  align-items: center;\n",
    "  justify-content: center;\n",
    "}\n",
    ".hexagon p {\n",
    "  color: #ffffff;\n",
    "  font-size: 20px;\n",
    "  text-align: center;\n",
    "  margin: 0;\n",
    "}\n",
    ".hexagon:before,\n",
    ".hexagon:after {\n",
    "  content: \"\";\n",
    "  position: absolute;\n",
    "  width: 0;\n",
    "  border-left: 100px solid transparent;\n",
    "  border-right: 100px solid transparent;\n",
    "}\n",
    "\n",
    ".hexagon:before {\n",
    "  top: -55px;\n",
    "  border-bottom: 55px solid #262626;\n",
    "}\n",
    "\n",
    ".hexagon:after {\n",
    "  bottom: -55px;\n",
    "  border-top: 55px solid #262626;\n",
    "}\n",
    "</style>\n",
    "</div>\n",
    "</div>\n",
    "\n",
    "<div style=\"flex: 3; margin:10px;\">\n",
    "\n",
    "**Decimal - Base 10**\\\n",
    "0123456789\\\n",
    "123\n",
    "\n",
    "**Binary - Base 2**\\\n",
    "\n",
    "0000 **0**\n",
    "0001 **1**\n",
    "0010 **2**\n",
    "0011 **3**\n",
    "0100 **4**\n",
    "0101 **5**\n",
    "0110 **6**\n",
    "0111 **7**\n",
    "1000 **8**\n",
    "1001 **9**\n",
    "1010 **10**\n",
    "1011 **11**\n",
    "1100 **12**\n",
    "1101 **13**\n",
    "1110 **14**\n",
    "1111 **15**\n",
    "\n",
    "\n",
    "**Hexadecimal - Base 16**\\\n",
    "0123456789ABCDEF\n",
    "<p>\n",
    "10 = 16 = 1*16+0<br>\n",
    "1F = 31 = 1*16+15<br>\n",
    "20 = 32 = 2*16+0<br>\n",
    "FF = 255 = 15 * 16 + 15\n",
    "</p>\n",
    "4F = 01001111 = 79\n",
    "\n",
    "</div>\n",
    "</div>\n",
    "\n",
    "\n",
    "---"
   ]
  },
  {
   "attachments": {},
   "cell_type": "markdown",
   "metadata": {},
   "source": [
    "# **Aggregation**\n",
    "\n",
    "Data som är sammanslagna av flera datapunkter (kluster), till exempel medelantal, kallas aggregerad data.\n",
    "\n",
    "Varför? Öka överskådlighet.\n",
    "\n",
    "Anta att vi har rådata som innehåller klockslag för varje gång en bil passerar en bro. För att få överblick kan vi *aggregera* antal bilar per timme. BPT."
   ]
  },
  {
   "attachments": {},
   "cell_type": "markdown",
   "metadata": {},
   "source": [
    "En aggregeringsfunktion tar en lista med värden, gör en beräkning på dessa och returnerar ett värde (skalär).\n",
    "\n",
    "Vanliga aggs:\n",
    "\n",
    "- Count()\n",
    "- Sum()\n",
    "- Avg()\n",
    "- Stdev()\n",
    "- Min()\n",
    "- Max()\n",
    "- String_agg()"
   ]
  },
  {
   "attachments": {},
   "cell_type": "markdown",
   "metadata": {},
   "source": [
    "## Example with periodic table\n",
    "\n",
    "<div class=\"image-container\">\n",
    "  <img src=\"https://upload.wikimedia.org/wikipedia/commons/thumb/0/03/Simple_Periodic_Table_Chart-blocks.svg/2560px-Simple_Periodic_Table_Chart-blocks.svg.png\" alt=\"Periodic Table\">\n",
    "</div>\n",
    "\n",
    "<style>\n",
    ".image-container {\n",
    "  position: relative;\n",
    "  background-color: #CECECE;\n",
    "  margin: 55px 0;\n",
    "  padding: 10px;\n",
    "  display: flex;\n",
    "  align-items: center;\n",
    "  justify-content: center;\n",
    "  overflow: hidden;\n",
    "}\n",
    "\n",
    ".image-container img {\n",
    "  max-width: 70%;\n",
    "  height: auto;\n",
    "}\n",
    "</style>"
   ]
  },
  {
   "cell_type": "code",
   "execution_count": null,
   "metadata": {
    "vscode": {
     "languageId": "sql"
    }
   },
   "outputs": [],
   "source": [
    "select count(*) from Elements\n",
    "-- aggregate count"
   ]
  },
  {
   "cell_type": "code",
   "execution_count": null,
   "metadata": {
    "vscode": {
     "languageId": "sql"
    }
   },
   "outputs": [],
   "source": [
    "select\n",
    "    count(*) as 'Number of rows'\n",
    "    count(Meltingpoint) as 'Melting point values'\n",
    "    count(Boilingpoint) as 'Boiling point values'\n",
    "    count(*) count(Meltingpoint) as 'Null values in meltingpoint',\n",
    "    sum(Mass) as 'Sum of mass',\n",
    "    avg(Boilingpoint) as 'Average boiling point',\n",
    "    min(Boilingpoint) as 'Min boiling point'\n",
    "    max(Boilingpoint) as 'Max boiling point'\n",
    "    string_agg(symbol, ', ') -- Get one string with separator \n",
    "FROM\n",
    "    Elements"
   ]
  },
  {
   "attachments": {},
   "cell_type": "markdown",
   "metadata": {},
   "source": [
    "**Abount null values**\n",
    "\n",
    "If value is null count(), skips row. Effectively giving us count of all occuring values. This goes for all aggregations, including stdev() but it differs from SQL dbs.\n",
    "\n",
    "In most databases, such as SQL Server and MySQL, stdev() calculates the standard deviation based on non-null values only.\n"
   ]
  },
  {
   "cell_type": "code",
   "execution_count": null,
   "metadata": {
    "vscode": {
     "languageId": "sql"
    }
   },
   "outputs": [],
   "source": [
    "select * from Elements order by boilingPoint"
   ]
  },
  {
   "cell_type": "code",
   "execution_count": null,
   "metadata": {
    "vscode": {
     "languageId": "sql"
    }
   },
   "outputs": [],
   "source": [
    "SELECT count(DISTINCT land) from städer;"
   ]
  },
  {
   "cell_type": "code",
   "execution_count": null,
   "metadata": {
    "vscode": {
     "languageId": "sql"
    }
   },
   "outputs": [],
   "source": [
    "SELECT count(period) from Elements -- all non null\n",
    "SELECT count(distinct period) from Elements -- all non null uniques"
   ]
  },
  {
   "attachments": {},
   "cell_type": "markdown",
   "metadata": {},
   "source": [
    "## Grouping\n"
   ]
  },
  {
   "cell_type": "code",
   "execution_count": null,
   "metadata": {
    "vscode": {
     "languageId": "sql"
    }
   },
   "outputs": [],
   "source": [
    "SELECT * from Elements\n",
    "SELECT count(DISTINCT period) from Elements -- 118 values"
   ]
  },
  {
   "cell_type": "code",
   "execution_count": null,
   "metadata": {
    "vscode": {
     "languageId": "sql"
    }
   },
   "outputs": [],
   "source": [
    "SELECT count(period) from Elements where Period = 1 -- 2 values (H, He)"
   ]
  },
  {
   "cell_type": "code",
   "execution_count": null,
   "metadata": {
    "vscode": {
     "languageId": "sql"
    }
   },
   "outputs": [],
   "source": [
    "SELECT count(period) from Elements group by period -- All grouped values"
   ]
  },
  {
   "cell_type": "code",
   "execution_count": null,
   "metadata": {
    "vscode": {
     "languageId": "sql"
    }
   },
   "outputs": [],
   "source": [
    "SELECT\n",
    "    period,\n",
    "    count(period) as 'Number of elements'\n",
    "    string_aggs(Symbol ', ' as 'Symbols')\n",
    "    \n",
    "from\n",
    "    Elements\n",
    "group by\n",
    "    period -- 7 Groups with n of elements and symbols"
   ]
  },
  {
   "cell_type": "code",
   "execution_count": null,
   "metadata": {
    "vscode": {
     "languageId": "sql"
    }
   },
   "outputs": [],
   "source": [
    "SELECT\n",
    "    period,\n",
    "    count(period) as 'Number of elements'\n",
    "    string_aggs(Symbol ', ' as 'Symbols')\n",
    "    \n",
    "from\n",
    "    Elements\n",
    "where Boilingpoint < 500\n",
    "\n",
    "group by\n",
    "    period\n",
    "having\n",
    "    count(period) => 18"
   ]
  },
  {
   "attachments": {},
   "cell_type": "markdown",
   "metadata": {},
   "source": [
    "Null output, because no elements with boilingpoint below 500 f and period above 18 exist."
   ]
  },
  {
   "attachments": {},
   "cell_type": "markdown",
   "metadata": {},
   "source": [
    "---\n",
    "\n",
    "## LINKS\n",
    "\n",
    "<a href=\"https://learn.microsoft.com/en-us/dotnet/standard/base-types/custom-numeric-format-strings\">.NET / Custom numeric format strings</a>\\\n",
    "<a href=\"https://www.sqltutorial.org/sql-aggregate-functions\">sqltutorial / sql-aggregate functions</a>\\\n",
    "<a href=\"https://learn.microsoft.com/en-us/sql/t-sql/data-types/data-types-transact-sql?view=sql-server-ver16\">t-sql / data types</a>"
   ]
  },
  {
   "attachments": {},
   "cell_type": "markdown",
   "metadata": {},
   "source": [
    "# **Common data types in SQL**\n",
    "\n",
    "### **Ints**\n",
    "\n",
    "| Data type | Range | Range expression | Storage |\n",
    "| --------- | ----- | ---------------- | ------- |\n",
    "| bigint | -9,223,372,036,854,775,808 to 9,223,372,036,854,775,807 | -2^63 to 2^63-1 | 8 Bytes |\n",
    "| int | -2,147,483,648 to 2,147,483,647 | -2^31 to 2^31-1 | 4 Bytes |\n",
    "| smallint | -32,768 to 32,767 | -2^15 to 2^15-1 | 2 Bytes |\n",
    "| tinyint | 0 to 255 | 2^0-1 to 2^8-1 | 1 Byte |\n",
    "\n",
    "### **Floats**\n",
    "\n",
    "| n value | Precision | Storage size |\n",
    "| ------- | --------- | ------------ |\n",
    "| 1-24 | 7 digits | 4 bytes |\n",
    "| 25-53 | 15 digits | 8 bytes |\n",
    "\n",
    "### **DATE, DATETIME2, DATETIME**\n",
    "\n",
    "- DATE: Store dates only, without any time component. It can represent any date between January 1, 0001 and December 31, 9999, and it takes up 3 bytes of storage.\n",
    "\n",
    "- DATETIME2: Store both date and time values, with a higher precision than DATETIME. It can represent any date between January 1, 0001 and December 31, 9999, with a time accuracy of 100 nanoseconds.\n",
    "\n",
    "- DATETIME: Store both date and time values, but with a lower precision than DATETIME2. It can represent any date between January 1, 1753 and December 31, 9999, with a time accuracy of up to 3.33 milliseconds.\n",
    "\n",
    "\n",
    "### **CHAR, VARCHAR, TEXT** (ASCII)\n",
    "\n",
    "- CHAR: Store fixed-length character strings, where the maximum length is specified when the column is defined. If a shorter string is stored, it will be padded with spaces to fill the remaining length, so a CHAR(10) column will always take up 10 bytes of storage, regardless of the length of the actual string.\n",
    "\n",
    "- VARCHAR: Store variable-length character strings, where the maximum length is also specified when the column is defined. If a shorter string is stored, it will only take up the necessary amount of storage, without any padding.\n",
    "\n",
    "- TEXT: Store large variable-length character strings, where the maximum length is not specified when the column is defined. TEXT columns can store up to 2^31-1 bytes of data (about 2 GB), and they do not require any padding or fixed-length allocation. TEXT is typically used for storing large amounts of text data, such as the contents of a book or a long article."
   ]
  },
  {
   "cell_type": "code",
   "execution_count": null,
   "metadata": {
    "vscode": {
     "languageId": "sql"
    }
   },
   "outputs": [],
   "source": [
    "   / \\  / ___| / ___|_ _|_ _|\n",
    "  / _ \\ \\___ \\| |    | | | |\n",
    " / ___ \\ ___) | |___ | | | |\n",
    "/_/   \\_\\____/ \\____|___|___|"
   ]
  },
  {
   "attachments": {},
   "cell_type": "markdown",
   "metadata": {},
   "source": [
    "### **NCHAR, NVARCHAR, NTEXT** Same but unicode 🦄\n",
    "\n",
    "# **Use nvarchar for new dbs**"
   ]
  },
  {
   "cell_type": "code",
   "execution_count": null,
   "metadata": {
    "vscode": {
     "languageId": "sql"
    }
   },
   "outputs": [],
   "source": [
    "🌑🌑🌑🌑🌑🌑🌑🌑🌑🌑🌑\n",
    "🌑🌑🌑🌔🌕🌕🌕🌘🌑🌑🌑\n",
    "🌑🌑🌓🌕🌕🌕🌕🌕🌗🌑🌑\n",
    "🌑🌑🌔🌕🌘🌑🌒🌕🌗🌑🌑\n",
    "🌑🌑🌕🌘🌑🌑🌑🌒🌖🌑🌑\n",
    "🌑🌒🌕🌕🌘🌑🌒🌕🌕🌑🌑\n",
    "🌑🌒🌕🌕🌕🌕🌕🌕🌕🌑🌑\n",
    "🌑🌒🌕🌕🌕🌕🌕🌕🌕🌑🌑\n",
    "🌑🌒🌕🌕🌕🌖🌕🌕🌕🌑🌑\n",
    "🌑🌒🌕🌕🌗🌑🌓🌕🌕🌑🌑\n",
    "🌒🌕🌕🌕🌗🌔🌕🌕🌕🌑🌑\n",
    "🌑🌑🌑🌑🌑🌑🌑🌑🌑🌑🌑"
   ]
  },
  {
   "attachments": {},
   "cell_type": "markdown",
   "metadata": {},
   "source": [
    "---"
   ]
  }
 ],
 "metadata": {
  "language_info": {
   "name": "python"
  },
  "orig_nbformat": 4
 },
 "nbformat": 4,
 "nbformat_minor": 2
}
