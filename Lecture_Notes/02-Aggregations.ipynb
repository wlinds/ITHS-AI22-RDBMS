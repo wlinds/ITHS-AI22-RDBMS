{
 "cells": [
  {
   "attachments": {},
   "cell_type": "markdown",
   "metadata": {},
   "source": [
    "## When comparing to null, cannot write = null. Must write **is null**\n",
    "\n",
    "---"
   ]
  },
  {
   "attachments": {},
   "cell_type": "markdown",
   "metadata": {},
   "source": [
    "<div style=\"display: flex; flex-direction: row;\">\n",
    "  <div style=\"flex: 1; margin:10px;\">\n",
    "  <div class=\"hexagon\">\n",
    "  <p>About binary &amp; hex</p>\n",
    "  \n",
    "<style>\n",
    ".hexagon {\n",
    "  width: 200px;\n",
    "  height: 110px;\n",
    "  position: relative;\n",
    "  background-color: #262626;\n",
    "  margin: 55px 0;\n",
    "  display: flex;\n",
    "  align-items: center;\n",
    "  justify-content: center;\n",
    "}\n",
    ".hexagon p {\n",
    "  color: #ffffff;\n",
    "  font-size: 20px;\n",
    "  text-align: center;\n",
    "  margin: 0;\n",
    "}\n",
    ".hexagon:before,\n",
    ".hexagon:after {\n",
    "  content: \"\";\n",
    "  position: absolute;\n",
    "  width: 0;\n",
    "  border-left: 100px solid transparent;\n",
    "  border-right: 100px solid transparent;\n",
    "}\n",
    "\n",
    ".hexagon:before {\n",
    "  top: -55px;\n",
    "  border-bottom: 55px solid #262626;\n",
    "}\n",
    "\n",
    ".hexagon:after {\n",
    "  bottom: -55px;\n",
    "  border-top: 55px solid #262626;\n",
    "}\n",
    "</style>\n",
    "</div>\n",
    "</div>\n",
    "\n",
    "<div style=\"flex: 3; margin:10px;\">\n",
    "\n",
    "**Decimal - Base 10**\\\n",
    "0123456789\\\n",
    "123\n",
    "\n",
    "**Binary - Base 2**\\\n",
    "\n",
    "0000 **0**\n",
    "0001 **1**\n",
    "0010 **2**\n",
    "0011 **3**\n",
    "0100 **4**\n",
    "0101 **5**\n",
    "0110 **6**\n",
    "0111 **7**\n",
    "1000 **8**\n",
    "1001 **9**\n",
    "1010 **10**\n",
    "1011 **11**\n",
    "1100 **12**\n",
    "1101 **13**\n",
    "1110 **14**\n",
    "1111 **15**\n",
    "\n",
    "\n",
    "**Hexadecimal - Base 16**\\\n",
    "0123456789ABCDEF\n",
    "<p>\n",
    "10 = 16 = 1*16+0<br>\n",
    "1F = 31 = 1*16+15<br>\n",
    "20 = 32 = 2*16+0<br>\n",
    "FF = 255 = 15 * 16 + 15\n",
    "</p>\n",
    "4F = 01001111 = 79\n",
    "\n",
    "</div>\n",
    "</div>\n",
    "\n",
    "\n",
    "---"
   ]
  },
  {
   "attachments": {},
   "cell_type": "markdown",
   "metadata": {},
   "source": [
    "# **Aggregation**\n",
    "\n",
    "Data som är sammanslagna av flera datapunkter, till exempel medelantal, kallas aggregerad data.\n",
    "\n",
    "Varför? Öka överskådlighet.\n",
    "\n",
    "Anta att vi har rådata som innehåller klockslag för varje gång en bil passerar en bro. För att få överblick kan vi *aggregera* antal bilar per timme. BPT."
   ]
  },
  {
   "attachments": {},
   "cell_type": "markdown",
   "metadata": {},
   "source": [
    "En aggregeringsfunktion tar en lista med värden, gör en beräkning på dessa och returnerar ett värde (skalär).\n",
    "\n",
    "Vanliga aggs:\n",
    "\n",
    "- Count()\n",
    "- Sum()\n",
    "- Avg()\n",
    "- Stdev()\n",
    "- Min()\n",
    "- Max()\n",
    "- String_agg()"
   ]
  },
  {
   "attachments": {},
   "cell_type": "markdown",
   "metadata": {},
   "source": [
    "## Example with periodic table\n",
    "\n",
    "<div class=\"image-container\">\n",
    "  <img src=\"https://upload.wikimedia.org/wikipedia/commons/thumb/0/03/Simple_Periodic_Table_Chart-blocks.svg/2560px-Simple_Periodic_Table_Chart-blocks.svg.png\" alt=\"Periodic Table\">\n",
    "</div>\n",
    "\n",
    "<style>\n",
    ".image-container {\n",
    "  position: relative;\n",
    "  background-color: #CECECE;\n",
    "  margin: 55px 0;\n",
    "  padding: 10px;\n",
    "  display: flex;\n",
    "  align-items: center;\n",
    "  justify-content: center;\n",
    "  overflow: hidden;\n",
    "}\n",
    "\n",
    ".image-container img {\n",
    "  max-width: 70%;\n",
    "  height: auto;\n",
    "}\n",
    "</style>"
   ]
  },
  {
   "cell_type": "code",
   "execution_count": null,
   "metadata": {
    "vscode": {
     "languageId": "sql"
    }
   },
   "outputs": [],
   "source": [
    "select count(*) from Elements\n",
    "-- aggregate count"
   ]
  },
  {
   "cell_type": "code",
   "execution_count": null,
   "metadata": {
    "vscode": {
     "languageId": "sql"
    }
   },
   "outputs": [],
   "source": [
    "select\n",
    "    count(*) as 'Number of rows'\n",
    "    count(Meltingpoint) as 'Melting point values'\n",
    "    count(Boilingpoint) as 'Boiling point values'\n",
    "    count(*) count(Meltingpoint) as 'Null values in meltingpoint',\n",
    "    sum(Mass) as 'Sum of mass',\n",
    "    avg(Boilingpoint) as 'Average boiling point',\n",
    "    min(Boilingpoint) as 'Min boiling point'\n",
    "    max(Boilingpoint) as 'Max boiling point'\n",
    "    string_agg(symbol, ', ') -- Get one string with separator \n",
    "FROM\n",
    "    Elements"
   ]
  },
  {
   "attachments": {},
   "cell_type": "markdown",
   "metadata": {},
   "source": [
    "**Abount null values**\n",
    "\n",
    "If value is null count(), skips row. Effectively giving us count of all occuring values. This goes for all aggregations, including stdev() but it differs from SQL dbs.\n",
    "\n",
    "In most databases, such as SQL Server and MySQL, stdev() calculates the standard deviation based on non-null values only.\n"
   ]
  },
  {
   "cell_type": "code",
   "execution_count": null,
   "metadata": {
    "vscode": {
     "languageId": "sql"
    }
   },
   "outputs": [],
   "source": [
    "select * from Elements order by boilingPoint"
   ]
  },
  {
   "cell_type": "code",
   "execution_count": null,
   "metadata": {
    "vscode": {
     "languageId": "sql"
    }
   },
   "outputs": [],
   "source": [
    "SELECT count(DISTINCT land) from städer;"
   ]
  },
  {
   "cell_type": "code",
   "execution_count": null,
   "metadata": {
    "vscode": {
     "languageId": "sql"
    }
   },
   "outputs": [],
   "source": [
    "SELECT count(period) from Elements -- all non null\n",
    "SELECT count(distinct period) from Elements -- all non null uniques"
   ]
  },
  {
   "attachments": {},
   "cell_type": "markdown",
   "metadata": {},
   "source": [
    "## Grouping\n"
   ]
  },
  {
   "cell_type": "code",
   "execution_count": null,
   "metadata": {
    "vscode": {
     "languageId": "sql"
    }
   },
   "outputs": [],
   "source": [
    "SELECT * from Elements\n",
    "SELECT count(DISTINCT period) from Elements -- 118 values"
   ]
  },
  {
   "cell_type": "code",
   "execution_count": null,
   "metadata": {
    "vscode": {
     "languageId": "sql"
    }
   },
   "outputs": [],
   "source": [
    "SELECT count(period) from Elements where Period = 1 -- 2 values (H, He)"
   ]
  },
  {
   "cell_type": "code",
   "execution_count": null,
   "metadata": {
    "vscode": {
     "languageId": "sql"
    }
   },
   "outputs": [],
   "source": [
    "SELECT count(period) from Elements group by period -- All grouped values"
   ]
  },
  {
   "cell_type": "code",
   "execution_count": null,
   "metadata": {
    "vscode": {
     "languageId": "sql"
    }
   },
   "outputs": [],
   "source": [
    "SELECT\n",
    "    period,\n",
    "    count(period) as 'Number of elements'\n",
    "    string_aggs(Symbol ', ' as 'Symbols')\n",
    "    \n",
    "from\n",
    "    Elements\n",
    "group by\n",
    "    period -- 7 Groups with n of elements and symbols"
   ]
  },
  {
   "cell_type": "code",
   "execution_count": null,
   "metadata": {
    "vscode": {
     "languageId": "sql"
    }
   },
   "outputs": [],
   "source": [
    "SELECT\n",
    "    period,\n",
    "    count(period) as 'Number of elements'\n",
    "    string_aggs(Symbol ', ' as 'Symbols')\n",
    "    \n",
    "from\n",
    "    Elements\n",
    "where Boilingpoint < 500\n",
    "\n",
    "group by\n",
    "    period\n",
    "having\n",
    "    count(period) => 18"
   ]
  },
  {
   "attachments": {},
   "cell_type": "markdown",
   "metadata": {},
   "source": [
    "Null output, because no elements with boilingpoint below 500 f and period above 18 exist."
   ]
  },
  {
   "attachments": {},
   "cell_type": "markdown",
   "metadata": {},
   "source": [
    "---\n",
    "\n",
    "## LINKS <img src=\"https://animatedit.files.wordpress.com/2016/03/1727273_200x130-png.gif\" height=20px><img src=\"https://animatedit.files.wordpress.com/2016/03/1727273_200x130-png.gif\" height=20px><img src=\"https://animatedit.files.wordpress.com/2016/03/1727273_200x130-png.gif\" height=20px>\n",
    "\n",
    "<a href=\"https://learn.microsoft.com/en-us/dotnet/standard/base-types/custom-numeric-format-strings\">.NET / Custom numeric format strings</a>\\\n",
    "<a href=\"https://www.sqltutorial.org/sql-aggregate-functions\">sqltutorial / sql-aggregate functions</a>"
   ]
  }
 ],
 "metadata": {
  "language_info": {
   "name": "python"
  },
  "orig_nbformat": 4
 },
 "nbformat": 4,
 "nbformat_minor": 2
}
