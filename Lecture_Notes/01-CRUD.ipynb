{
 "cells": [
  {
   "attachments": {},
   "cell_type": "markdown",
   "metadata": {},
   "source": [
    "### Create, Read, Update, Delete\n",
    "\n",
    "**INSERT INTO**\n",
    "\n",
    "INSERT INTO table_name ($k_1$, $k_2$ ... $k_n$) values ($v_1$, $v_2$ ... $v_n$) where $k$ is column names and $v$ is values.\n",
    "\n",
    ">Same n of values, no need to enter column names.\n",
    "\n",
    "**SELECT INTO**\n",
    "Creates new table from selection\n",
    "\n",
    "**INSERT INTO SELECT FROM**\n",
    "Insert data in existing table from selection\n",
    "Does not update existing values, creates new. Will get duplicates.\n",
    "\n",
    "\n"
   ]
  },
  {
   "attachments": {},
   "cell_type": "markdown",
   "metadata": {},
   "source": [
    "<code>SELECT * INTO USERS2 FROM USERS</code>\n",
    "\n",
    "Creates a copy\n",
    "\n",
    "Primary keys not included in copy"
   ]
  },
  {
   "cell_type": "code",
   "execution_count": null,
   "metadata": {
    "vscode": {
     "languageId": "plaintext"
    }
   },
   "outputs": [],
   "source": []
  },
  {
   "cell_type": "markdown",
   "metadata": {},
   "source": []
  }
 ],
 "metadata": {
  "language_info": {
   "name": "python"
  },
  "orig_nbformat": 4
 },
 "nbformat": 4,
 "nbformat_minor": 2
}
