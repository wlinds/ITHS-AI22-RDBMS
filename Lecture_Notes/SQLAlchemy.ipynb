{
 "cells": [
  {
   "attachments": {},
   "cell_type": "markdown",
   "metadata": {},
   "source": [
    "# **SQLAlchemy**\n",
    "\n",
    "SQLAlchemy is an open-source Python library that provides a set of tools for working with SQL databases.\\\n",
    "It allows developers to interact with databases using Python code rather than writing SQL statements directly.\n",
    "\n",
    "**Core** - foundation, general toolkit\\\n",
    "**ORM** - Object Relational Mapping\n",
    "\n",
    "ORM allows Python to map classes to database tables and rows, making it easy to perform CRUD (Create, Read, Update, Delete) operations. ORM also provides features like relationships, lazy loading, and transactions.\n",
    "\n",
    "---"
   ]
  },
  {
   "attachments": {},
   "cell_type": "markdown",
   "metadata": {},
   "source": [
    "**Engine object** - Establish connection, created once:\\\n",
    "https://docs.sqlalchemy.org/en/20/tutorial/engine.html"
   ]
  },
  {
   "cell_type": "code",
   "execution_count": 2,
   "metadata": {},
   "outputs": [],
   "source": [
    "from sqlalchemy import create_engine\n",
    "engine = create_engine('sqlite:///my-database.db') # <- Connection string"
   ]
  },
  {
   "attachments": {},
   "cell_type": "markdown",
   "metadata": {},
   "source": [
    "DBAPI - \"Driver\" for SQL interaction\n",
    "\n",
    "Example: <a href=\"https://learn.microsoft.com/en-us/sql/odbc/microsoft-open-database-connectivity-odbc?view=sql-server-ver16\">(Microsoft Open Database Connectivity (ODBC)</a>"
   ]
  },
  {
   "attachments": {},
   "cell_type": "markdown",
   "metadata": {},
   "source": [
    "### Connection string\n",
    "\n",
    "A connection string typically includes information such as the type of driver, the server name, the database name, the user name, the password, and other options. A connection string can be specified in different formats depending on the data provider or driver.\n",
    "\n",
    "https://www.connectionstrings.com\n",
    "\n"
   ]
  },
  {
   "attachments": {},
   "cell_type": "markdown",
   "metadata": {},
   "source": [
    "### Working with transactions\n",
    "\n",
    "By using with <code>enginge.connect()</code> as connection: "
   ]
  },
  {
   "cell_type": "code",
   "execution_count": 3,
   "metadata": {},
   "outputs": [
    {
     "name": "stdout",
     "output_type": "stream",
     "text": [
      "[('hello world',)]\n"
     ]
    }
   ],
   "source": [
    "from sqlalchemy import text\n",
    "\n",
    "with engine.connect() as c:\n",
    "    result = c.execute(text(\"select 'hello world'\"))\n",
    "    print(result.all())"
   ]
  },
  {
   "attachments": {},
   "cell_type": "markdown",
   "metadata": {},
   "source": [
    "### Committing Changes\n",
    "DBAPI connections are non-autocommitting. Need to use <code>commit()</code>."
   ]
  },
  {
   "cell_type": "code",
   "execution_count": 4,
   "metadata": {},
   "outputs": [],
   "source": [
    "with engine.connect() as c:\n",
    "    c.execute(text(\"CREATE TABLE some_table (x int, y int)\"))\n",
    "    c.execute(\n",
    "        text(\"INSERT INTO some_table (x, y) VALUES (:x, :y)\"),\n",
    "        [{\"x\": 1, \"y\": 1}, {\"x\": 2, \"y\": 4}],\n",
    "    )\n",
    "    c.commit()"
   ]
  },
  {
   "attachments": {},
   "cell_type": "markdown",
   "metadata": {},
   "source": [
    "### Fetching Rows"
   ]
  },
  {
   "cell_type": "code",
   "execution_count": 5,
   "metadata": {},
   "outputs": [
    {
     "name": "stdout",
     "output_type": "stream",
     "text": [
      "x: 1  y: 1\n",
      "x: 2  y: 4\n"
     ]
    }
   ],
   "source": [
    "with engine.connect() as c:\n",
    "    result = c.execute(text(\"SELECT x, y FROM some_table\"))\n",
    "    for row in result:\n",
    "        print(f\"x: {row.x}  y: {row.y}\")"
   ]
  },
  {
   "attachments": {},
   "cell_type": "markdown",
   "metadata": {},
   "source": [
    "### Sending parameters\n",
    "\n",
    "Always send data and code separated."
   ]
  },
  {
   "cell_type": "code",
   "execution_count": 6,
   "metadata": {},
   "outputs": [
    {
     "name": "stdout",
     "output_type": "stream",
     "text": [
      "x: 2  y: 4\n"
     ]
    }
   ],
   "source": [
    "with engine.connect() as c:\n",
    "    result = c.execute(text(\"SELECT x, y FROM some_table WHERE y > :y\"), {\"y\": 2})\n",
    "    for row in result:\n",
    "        print(f\"x: {row.x}  y: {row.y}\")"
   ]
  },
  {
   "attachments": {},
   "cell_type": "markdown",
   "metadata": {},
   "source": [
    "---\n",
    "## **⚠️ Injections & Parameter Bindings**\n",
    "\n",
    "### Parameter binding - used to safely insert user input and avoid"
   ]
  },
  {
   "cell_type": "code",
   "execution_count": null,
   "metadata": {},
   "outputs": [],
   "source": [
    "with engine.connect() as c:\n",
    "    result = c.execute(text(\"SELECT x, y FROM some_table WHERE y > :y\"), {\"y\": userY}) # <-- Parameter binding, GOOD\n",
    "    result = c.execute(text(\"SELECT x, y FROM some_table WHERE y > 2\") + userY) # <-- Concat, BAD\n",
    "\n",
    "    for row in result:\n",
    "        print(f\"x: {row.x} y:{row.y}\")"
   ]
  },
  {
   "attachments": {},
   "cell_type": "markdown",
   "metadata": {},
   "source": [
    "In the second c.execute line, the concatenation of the userY variable to the end of the query string is unsafe and can lead to SQL injection attacks. Instead, we should use *parameter binding*, as in the first c.execute line.\n",
    "\n",
    "With parameter binding we use placeholders in the query string, and then provide the actual values for those placeholders separately. The placeholders are typically represented by a colon followed by a parameter name.\n",
    "\n",
    "\n",
    "#### In T-SQL we would use @Y instead of :y\n",
    "\n",
    "\n",
    ">**Always use bound parameters**\\\n",
    "As mentioned at the beginning of this section, textual SQL is not the usual way we work with SQLAlchemy. However, when using textual SQL, a Python literal value, even non-strings like integers or dates, should never be stringified into SQL string directly; a parameter should always be used. This is most famously known as how to avoid SQL injection attacks when the data is untrusted. However it also allows the SQLAlchemy dialects and/or DBAPI to correctly handle the incoming input for the backend. Outside of plain textual SQL use cases, SQLAlchemy’s Core Expression API otherwise ensures that Python literal values are passed as bound parameters where appropriate.*\n",
    "\n",
    "*https://docs.sqlalchemy.org/en/20/tutorial/dbapi_transactions.html#sending-parameters\n",
    "\n",
    "Always set up restrictions and also separate code from data.\n",
    "\n",
    "---"
   ]
  },
  {
   "attachments": {},
   "cell_type": "markdown",
   "metadata": {},
   "source": [
    "## Database metadata\n",
    "\n",
    "The central element of both SQLAlchemy Core and ORM is the SQL Expression Language which allows for fluent, composable construction of SQL queries. The foundation for these queries are Python objects that represent database concepts like tables and columns. These objects are known collectively as database metadata.\n",
    "\n",
    "We *declare* or use *reflection*.\n",
    "\n",
    "- Reflection automatically generate the metadata object by reading the db.\n",
    "- Declaration is used 'manually'.\n",
    "\n",
    "Having a single MetaData object for an entire application is the most common case, represented as a module-level variable in a single place in an application, often in a “models” or “dbschema” type of package."
   ]
  },
  {
   "cell_type": "code",
   "execution_count": 15,
   "metadata": {},
   "outputs": [],
   "source": [
    "from sqlalchemy import MetaData\n",
    "metadata_obj = MetaData()"
   ]
  },
  {
   "cell_type": "code",
   "execution_count": 16,
   "metadata": {},
   "outputs": [],
   "source": [
    "from sqlalchemy import Table, Column, Integer, String\n",
    "user_table = Table(\n",
    "    \"user_account\",\n",
    "    metadata_obj,\n",
    "    Column(\"id\", Integer, primary_key=True),\n",
    "    Column(\"name\", String(30)),\n",
    "    Column(\"fullname\", String),\n",
    ")"
   ]
  },
  {
   "cell_type": "code",
   "execution_count": 17,
   "metadata": {},
   "outputs": [
    {
     "data": {
      "text/plain": [
       "['id', 'name', 'fullname']"
      ]
     },
     "execution_count": 17,
     "metadata": {},
     "output_type": "execute_result"
    }
   ],
   "source": [
    "user_table.c.keys() # Get keys"
   ]
  },
  {
   "attachments": {},
   "cell_type": "markdown",
   "metadata": {},
   "source": [
    "### Declaring constraints"
   ]
  },
  {
   "cell_type": "code",
   "execution_count": 18,
   "metadata": {},
   "outputs": [
    {
     "data": {
      "text/plain": [
       "PrimaryKeyConstraint(Column('id', Integer(), table=<user_account>, primary_key=True, nullable=False))"
      ]
     },
     "execution_count": 18,
     "metadata": {},
     "output_type": "execute_result"
    }
   ],
   "source": [
    "user_table.primary_key"
   ]
  },
  {
   "cell_type": "code",
   "execution_count": 19,
   "metadata": {},
   "outputs": [],
   "source": [
    "from sqlalchemy import ForeignKey\n",
    "address_table = Table(\n",
    "    \"address\",\n",
    "    metadata_obj,\n",
    "    Column(\"id\", Integer, primary_key=True),\n",
    "    Column(\"user_id\", ForeignKey(\"user_account.id\"), nullable=False),\n",
    "    Column(\"email_address\", String, nullable=False),\n",
    ")"
   ]
  },
  {
   "attachments": {},
   "cell_type": "markdown",
   "metadata": {},
   "source": [
    "### Emitting DDL to the Database\n",
    "\n",
    "When we want to send Data Definition Language to the database.\n",
    "\n",
    "The first useful thing we can do with this structure will be to emit CREATE TABLE statements, or DDL, to our SQLite database so that we can insert and query data from them. We have already all the tools needed to do so, by invoking the MetaData.<code>create_all()</code> method on our MetaData, sending it the Engine that refers to the target database:"
   ]
  },
  {
   "cell_type": "code",
   "execution_count": 20,
   "metadata": {},
   "outputs": [],
   "source": [
    "metadata_obj.create_all(engine)"
   ]
  }
 ],
 "metadata": {
  "kernelspec": {
   "display_name": "Python 3",
   "language": "python",
   "name": "python3"
  },
  "language_info": {
   "codemirror_mode": {
    "name": "ipython",
    "version": 3
   },
   "file_extension": ".py",
   "mimetype": "text/x-python",
   "name": "python",
   "nbconvert_exporter": "python",
   "pygments_lexer": "ipython3",
   "version": "3.11.3"
  },
  "orig_nbformat": 4
 },
 "nbformat": 4,
 "nbformat_minor": 2
}
