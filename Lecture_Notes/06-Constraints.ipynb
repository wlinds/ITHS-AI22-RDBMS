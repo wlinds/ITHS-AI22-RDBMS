{
 "cells": [
  {
   "attachments": {},
   "cell_type": "markdown",
   "metadata": {},
   "source": [
    "## **Data integrity & Constraints**\n",
    "\n",
    "---\n",
    "\n",
    "Constraints are used to define rules that enforce the integrity of the data in a table. Some examples:\n"
   ]
  },
  {
   "attachments": {},
   "cell_type": "markdown",
   "metadata": {},
   "source": [
    "**Fized-size Constraint**:\\\n",
    "This constraint specifies a fixed length for a character or binary data column.\\\n",
    "It is used to ensure that the values in the column have a specific length and do not exceed that length.\n",
    "\n",
    "- ASCII (1 byte / character)\n",
    "    - char(10)\n",
    "    - varchar(10)\n",
    "<br><br>\n",
    "- Unicode (>=2 byte / character)\n",
    "    - nvar\n",
    "    - nvarchar"
   ]
  },
  {
   "cell_type": "code",
   "execution_count": null,
   "metadata": {},
   "outputs": [],
   "source": [
    "select top 1 username, len(username), datalength(username) from users"
   ]
  },
  {
   "attachments": {},
   "cell_type": "markdown",
   "metadata": {},
   "source": [
    "**NOT NULL Constraint:**\\\n",
    "This constraint is used to ensure that a column does not contain any NULL values.\\\n",
    "If we have a column named \"age\" in a table and we want to ensure that every row has a value for age."
   ]
  },
  {
   "cell_type": "code",
   "execution_count": null,
   "metadata": {},
   "outputs": [],
   "source": [
    "CREATE TABLE students (\n",
    "   id INT PRIMARY KEY,\n",
    "   name VARCHAR(50) NOT NULL,\n",
    "   age INT NOT NULL\n",
    ");"
   ]
  },
  {
   "attachments": {},
   "cell_type": "markdown",
   "metadata": {},
   "source": [
    "**UNIQUE Constraint:**\\\n",
    "This constraint ensures that the values in a column or a combination of columns are unique.\\\n",
    "If we have a column named \"email\" in a table and we want to ensure that each email address is unique:"
   ]
  },
  {
   "cell_type": "code",
   "execution_count": null,
   "metadata": {},
   "outputs": [],
   "source": [
    "CREATE TABLE users (\n",
    "   id INT PRIMARY KEY,\n",
    "   email VARCHAR(50) UNIQUE,\n",
    "   password VARCHAR(50)\n",
    ");"
   ]
  },
  {
   "attachments": {},
   "cell_type": "markdown",
   "metadata": {},
   "source": [
    "**PRIMARY KEY Constraint:**\\\n",
    "This constraint uniquely identifies each row in a table. A primary key column cannot contain NULL values and must have a unique value for each row.\\\n",
    "If we have a table named \"employees\" and we want to ensure that each employee has a unique employee ID:"
   ]
  },
  {
   "cell_type": "code",
   "execution_count": null,
   "metadata": {},
   "outputs": [],
   "source": [
    "CREATE TABLE employees (\n",
    "   emp_id INT PRIMARY KEY,\n",
    "   name VARCHAR(50),\n",
    "   department VARCHAR(50),\n",
    "   salary INT\n",
    ");"
   ]
  },
  {
   "attachments": {},
   "cell_type": "markdown",
   "metadata": {},
   "source": [
    "**FOREIGN KEY Constraint:**\\\n",
    "This constraint establishes a relationship between two tables. The foreign key column in one table references the primary key column in another table.\\\n",
    "If we have a table named \"orders\" and we want to reference the customer ID from a table named \"customers\", we can use the FOREIGN KEY:"
   ]
  },
  {
   "cell_type": "code",
   "execution_count": null,
   "metadata": {},
   "outputs": [],
   "source": [
    "CREATE TABLE orders (\n",
    "   order_id INT PRIMARY KEY,\n",
    "   customer_id INT,\n",
    "   order_date DATE,\n",
    "   FOREIGN KEY (customer_id) REFERENCES customers(customer_id)\n",
    ");"
   ]
  }
 ],
 "metadata": {
  "language_info": {
   "name": "python"
  },
  "orig_nbformat": 4
 },
 "nbformat": 4,
 "nbformat_minor": 2
}
