{
 "cells": [
  {
   "attachments": {},
   "cell_type": "markdown",
   "metadata": {},
   "source": [
    "# SQL Server \n",
    "\n",
    "## System Databases\n",
    "\n",
    "The system databases are a group of databases that are used to manage and maintain the server itself.\n",
    "\n",
    "By default, SQL Server provides you with four main systems databases:\n",
    "- **master**\n",
    "    - Stores information about the SQL Server instance, including server-level settings, logins, and metadata for all other databases\n",
    "\n",
    "- **msdb**\n",
    "    - Stores information about **SQL Server Agent** jobs, alerts, and other maintenance tasks\n",
    "\n",
    "- **model**\n",
    "    - Used as a template when creating new databases. It contains default settings and objects that are copied to new databases.\n",
    "\n",
    "- **tempdb**\n",
    "    - Stores temporary objects such as tables, variables, and stored procedure output.\n",
    "\n",
    "read more @ <a href=\"https://www.sqlservertutorial.net/sql-server-administration/sql-server-system-databases/\">sqlservertutorial.net/SQL-Server-System-Databases</a>\n",
    "\n",
    "---"
   ]
  },
  {
   "attachments": {},
   "cell_type": "markdown",
   "metadata": {},
   "source": [
    "## Server Agent\n",
    "SQL Server Agent is a tool that can help automate routine tasks in SQL Server environments.\n",
    "\n",
    "- Jobs – This is a program that defines the rules about the repetitive execution of one or more scripts or other utilities within the SQL Server environment\n",
    "\n",
    "- Steps – These can be considered as the building blocks of the jobs. Your job can contain one or multiple steps. Each step executes a specific set of instructions. The next step can be executed based on the success or failure of a previous step\n",
    "\n",
    "- Schedules – These are periodic rules set on the job to execute automatically based on a pre-defined time slot. These jobs can be scheduled hourly, daily, weekly, monthly, or even on specific days of the week\n",
    "\n",
    "- Alerts – SQL Server generates events that are stored in the Microsoft Windows Application Log. Whenever the agent finds a match, it fires an alert which is a response to the event\n",
    "\n",
    "- Notifications – You can set up email notifications to update about the result of the job execution. This is mostly done in case of job failures so that the person responsible for the jobs can take appropriate actions\n",
    "\n",
    "read more @ <a href=\"https://www.sqlshack.com/introduction-to-the-sql-server-agent/\">sqlshack.com/introduction-to-the-sql-server-agent/</a>\n",
    "\n",
    "---"
   ]
  },
  {
   "attachments": {},
   "cell_type": "markdown",
   "metadata": {},
   "source": [
    "## Temporary Tables\n",
    "\n",
    "SQL Server provided two ways to create temporary tables via SELECT INTO and CREATE TABLE statements.\n",
    "\n",
    "\n",
    "read more @ <a href=\"https://www.sqlservertutorial.net/sql-server-basics/sql-server-temporary-tables/\">sqlservertutorial.net/SQL-Server-Temporary-Tables</a>\n",
    "\n",
    "---"
   ]
  },
  {
   "attachments": {},
   "cell_type": "markdown",
   "metadata": {},
   "source": [
    "## Table Variables\n",
    "Designed to hold rows of data, useful for storing and manipulating small sets of data within a stored procedure or batch.\n",
    "\n",
    "Table variables are declared using the DECLARE statement and are assigned a data type and optional constraints, such as PRIMARY KEY.\n",
    "They can then be used like regular tables in SQL statements such as SELECT, INSERT, UPDATE, and DELETE."
   ]
  },
  {
   "cell_type": "code",
   "execution_count": null,
   "metadata": {
    "vscode": {
     "languageId": "sql"
    }
   },
   "outputs": [],
   "source": [
    "DECLARE @table_variable_name TABLE (\n",
    "    column_list\n",
    ");"
   ]
  },
  {
   "attachments": {},
   "cell_type": "markdown",
   "metadata": {},
   "source": [
    "Key points:\n",
    "\n",
    "- Scope: Table variables have a scope that is limited to the batch or stored procedure in which they are declared. They cannot be referenced outside of this scope, even if they are declared with the same name in another scope.\n",
    "\n",
    "- Performance: Table variables are stored in memory, making them faster to access than temporary tables or other types of storage. However, they can have performance issues if they contain a large amount of data or if they are used in complex join operations.\n",
    "\n",
    "- Constraints: Table variables can be declared with constraints such as PRIMARY KEY or UNIQUE, but they cannot have foreign key constraints or be referenced by other tables.\n",
    "\n",
    "- Indexing: Table variables can be indexed, which can improve performance in certain situations. However, they cannot have non-clustered indexes created explicitly, although SQL Server might create one implicitly if it deems it necessary.\n",
    "\n",
    "read more @ <a href=\"https://www.sqlservertutorial.net/sql-server-user-defined-functions/sql-server-table-variables/\">sqlservertutorial.net/SQL-Server-Table-Variables</a>\n",
    "\n",
    "---"
   ]
  },
  {
   "attachments": {},
   "cell_type": "markdown",
   "metadata": {},
   "source": [
    "## Global Variables\n",
    "\n",
    "A variable that is defined at the server level and can be accessed by all sessions or connections to the server.\n",
    "Global variables are created using the sp_configure.\n",
    "\n",
    "Key points:\n",
    "\n",
    "- Scope: Global variables have a scope that is limited to the server instance in which they are defined. They can be accessed by any session or connection to the server.\n",
    "\n",
    "- Security: Global variables can be accessed and modified by any user who has the appropriate permissions. Therefore, it is important to ensure that the values of global variables are secure and not accessible to unauthorized users.\n",
    "\n",
    "- Performance: Accessing global variables can have a small performance impact on SQL Server, especially if they are used frequently or if they contain a large amount of data.\n",
    "\n",
    "- Best Practices: It is generally recommended to use global variables sparingly and only for server-level configuration settings or other system-level information. They should not be used to store or manage application-level data or information."
   ]
  },
  {
   "attachments": {},
   "cell_type": "markdown",
   "metadata": {},
   "source": [
    "read more @ <a href=\"https://www.codeproject.com/Articles/39131/Global-Variables-in-SQL-Server\">codeproject.com/Global-Variables-in-SQL-Server</a>"
   ]
  }
 ],
 "metadata": {
  "language_info": {
   "name": "python"
  },
  "orig_nbformat": 4
 },
 "nbformat": 4,
 "nbformat_minor": 2
}
